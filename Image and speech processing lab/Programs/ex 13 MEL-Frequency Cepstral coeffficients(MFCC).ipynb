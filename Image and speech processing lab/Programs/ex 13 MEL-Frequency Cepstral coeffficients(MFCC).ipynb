{
 "cells": [
  {
   "cell_type": "code",
   "execution_count": 4,
   "metadata": {
    "scrolled": true
   },
   "outputs": [
    {
     "name": "stdout",
     "output_type": "stream",
     "text": [
      "[-0.01765634 -0.02798829 -0.00657416 ...  0.06993531  0.07203146\n",
      "  0.06423917]\n",
      "Sample rate: 22050Hz\n",
      "Audio duration: 6.5s\n",
      "[[-2.50366745e+02 -2.19082001e+02 -2.18786316e+02 ... -2.47095276e+02\n",
      "  -2.47411469e+02 -2.49147888e+02]\n",
      " [ 5.97959290e+01  6.13324471e+01  6.33752022e+01 ...  6.84803772e+01\n",
      "   6.73312683e+01  6.52050705e+01]\n",
      " [-2.89478664e+01 -2.93658180e+01 -2.45828075e+01 ... -2.12152424e+01\n",
      "  -2.50918980e+01 -2.39257145e+01]\n",
      " ...\n",
      " [-6.03648949e+00 -1.04783993e+01 -1.15280762e+01 ... -1.31629715e+01\n",
      "  -1.15254345e+01 -1.04600172e+01]\n",
      " [ 3.12441051e-01 -1.47351146e-01  3.52277851e+00 ...  3.06393147e+00\n",
      "   2.54284716e+00  3.88096523e+00]\n",
      " [-1.24802551e+01 -1.27658539e+01 -8.34307766e+00 ... -3.95151377e+00\n",
      "  -6.60157967e+00 -4.51649857e+00]]\n"
     ]
    }
   ],
   "source": [
    "import librosa\n",
    "y,sr=librosa.load('./auds/speech.wav')\n",
    "print(y)\n",
    "print(\"Sample rate: {0}Hz\".format(sr))\n",
    "print(\"Audio duration: {0}s\".format(len(y) / sr))\n",
    "print(librosa.feature.mfcc(y=y,sr=sr,n_mfcc=13))"
   ]
  },
  {
   "cell_type": "code",
   "execution_count": null,
   "metadata": {},
   "outputs": [],
   "source": []
  },
  {
   "cell_type": "code",
   "execution_count": null,
   "metadata": {},
   "outputs": [],
   "source": []
  },
  {
   "cell_type": "code",
   "execution_count": null,
   "metadata": {},
   "outputs": [],
   "source": []
  },
  {
   "cell_type": "code",
   "execution_count": null,
   "metadata": {},
   "outputs": [],
   "source": []
  },
  {
   "cell_type": "code",
   "execution_count": null,
   "metadata": {},
   "outputs": [],
   "source": []
  },
  {
   "cell_type": "code",
   "execution_count": null,
   "metadata": {},
   "outputs": [],
   "source": []
  },
  {
   "cell_type": "code",
   "execution_count": null,
   "metadata": {},
   "outputs": [],
   "source": []
  },
  {
   "cell_type": "code",
   "execution_count": null,
   "metadata": {},
   "outputs": [],
   "source": []
  },
  {
   "cell_type": "code",
   "execution_count": null,
   "metadata": {},
   "outputs": [],
   "source": []
  },
  {
   "cell_type": "code",
   "execution_count": null,
   "metadata": {},
   "outputs": [],
   "source": []
  }
 ],
 "metadata": {
  "kernelspec": {
   "display_name": "Python 3",
   "language": "python",
   "name": "python3"
  },
  "language_info": {
   "codemirror_mode": {
    "name": "ipython",
    "version": 3
   },
   "file_extension": ".py",
   "mimetype": "text/x-python",
   "name": "python",
   "nbconvert_exporter": "python",
   "pygments_lexer": "ipython3",
   "version": "3.8.5"
  }
 },
 "nbformat": 4,
 "nbformat_minor": 5
}
